{
  "nbformat": 4,
  "nbformat_minor": 0,
  "metadata": {
    "colab": {
      "provenance": []
    },
    "kernelspec": {
      "name": "python3",
      "display_name": "Python 3"
    },
    "language_info": {
      "name": "python"
    }
  },
  "cells": [
    {
      "cell_type": "code",
      "execution_count": 4,
      "metadata": {
        "colab": {
          "base_uri": "https://localhost:8080/"
        },
        "id": "qXyJDfFf10Xm",
        "outputId": "9b0a1029-b217-4247-fa43-9dde0b698293"
      },
      "outputs": [
        {
          "output_type": "stream",
          "name": "stdout",
          "text": [
            "enter a stringpython\n",
            "['p', 'y', 't', 'h']\n",
            "htyp\n"
          ]
        }
      ],
      "source": [
        "P= list(input('enter a string'))\n",
        "if len(P)>2:\n",
        "  del P[-2:]\n",
        "print(P)\n",
        "x=''.join(P[::-1])\n",
        "print(x)"
      ]
    },
    {
      "cell_type": "code",
      "source": [
        "a = int(input(\"Enter the first number: \"))\n",
        "b = int(input(\"Enter the second number: \"))\n",
        "\n",
        "print(\"Addition:\", a + b)\n",
        "print(\"Subtraction:\", a - b)\n",
        "print(\"Multiplication:\", a * b)\n",
        "print(\"Division:\", a / b)"
      ],
      "metadata": {
        "colab": {
          "base_uri": "https://localhost:8080/"
        },
        "id": "sJ9pMSO_4PQD",
        "outputId": "92a50c78-3ded-484c-b495-748ab589ff2a"
      },
      "execution_count": 5,
      "outputs": [
        {
          "output_type": "stream",
          "name": "stdout",
          "text": [
            "Enter the first number: 4\n",
            "Enter the second number: 2\n",
            "Addition: 6\n",
            "Subtraction: 2\n",
            "Multiplication: 8\n",
            "Division: 2.0\n"
          ]
        }
      ]
    },
    {
      "cell_type": "code",
      "source": [
        "w = input('enter a string')\n",
        "s=w.replace('python','pythons')\n",
        "print('after replacement : ',s)"
      ],
      "metadata": {
        "colab": {
          "base_uri": "https://localhost:8080/"
        },
        "id": "UM7Y2XN344A_",
        "outputId": "b78c9b91-d59e-4e8d-bdbc-57b9dd78bf88"
      },
      "execution_count": 6,
      "outputs": [
        {
          "output_type": "stream",
          "name": "stdout",
          "text": [
            "enter a stringI love playing with python\n",
            "after replacement I love playing with pythons\n"
          ]
        }
      ]
    },
    {
      "cell_type": "code",
      "source": [
        "score = int(input(\"Enter class score\"))\n",
        "if(score>=90):\n",
        "  print(\"A\")\n",
        "elif(score>=80 & score<90):\n",
        "  print(\"B\")\n",
        "elif(score>=70 & score<80):\n",
        "  print(\"C\")\n",
        "elif(score>=60 & score<70):\n",
        "  print(\"D\")\n",
        "else:\n",
        "  print(\"F\")"
      ],
      "metadata": {
        "id": "fInVVsHELTRt"
      },
      "execution_count": null,
      "outputs": []
    }
  ]
}